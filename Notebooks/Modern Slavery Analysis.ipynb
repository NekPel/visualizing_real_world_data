{
 "cells": [
  {
   "cell_type": "markdown",
   "metadata": {},
   "source": [
    "# Merge csv files on Country key (clean_slavery_index, gdp_per_capita, access_to_education)"
   ]
  },
  {
   "cell_type": "markdown",
   "metadata": {},
   "source": [
    "Load final csv file to df and clean columns/rows/datatypes (check just in case)\n",
    "#final_df.to_csv(r'C:\\Users\\user\\data_analysis_project\\visualizing_real_world_data\\Data\\final_dataset.csv')"
   ]
  },
  {
   "cell_type": "markdown",
   "metadata": {},
   "source": [
    "Do the correlations for victims_in_1000 based on: gdp_per_capita, access_to_education, violence_index, HDI_rank"
   ]
  },
  {
   "cell_type": "markdown",
   "metadata": {},
   "source": [
    "1. Do the scatter plots; => 2. Run correlations; => 3. Run the 4 Regressions; => 4. Run OLS1; => 5. Observe low R squared value\n",
    "\n",
    "# Reduce the sample to the first approx. 30% of the countries by slavery_index\n",
    "\n",
    "1. Do the scatter plots - part 2; => 2. Run correlations - part 2; 3. Run the 4 Regressions - part 2; 4. Run OLS - part 2 \n",
    "\n",
    "=> !!5. Hope to GOD R squared si closer to 1 :D!!"
   ]
  },
  {
   "cell_type": "code",
   "execution_count": null,
   "metadata": {},
   "outputs": [],
   "source": []
  }
 ],
 "metadata": {
  "kernelspec": {
   "display_name": "Python 3",
   "language": "python",
   "name": "python3"
  },
  "language_info": {
   "codemirror_mode": {
    "name": "ipython",
    "version": 3
   },
   "file_extension": ".py",
   "mimetype": "text/x-python",
   "name": "python",
   "nbconvert_exporter": "python",
   "pygments_lexer": "ipython3",
   "version": "3.8.3"
  },
  "varInspector": {
   "cols": {
    "lenName": 16,
    "lenType": 16,
    "lenVar": 40
   },
   "kernels_config": {
    "python": {
     "delete_cmd_postfix": "",
     "delete_cmd_prefix": "del ",
     "library": "var_list.py",
     "varRefreshCmd": "print(var_dic_list())"
    },
    "r": {
     "delete_cmd_postfix": ") ",
     "delete_cmd_prefix": "rm(",
     "library": "var_list.r",
     "varRefreshCmd": "cat(var_dic_list()) "
    }
   },
   "types_to_exclude": [
    "module",
    "function",
    "builtin_function_or_method",
    "instance",
    "_Feature"
   ],
   "window_display": false
  }
 },
 "nbformat": 4,
 "nbformat_minor": 4
}
